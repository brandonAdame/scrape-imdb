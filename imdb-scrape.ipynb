{
 "cells": [
  {
   "cell_type": "markdown",
   "metadata": {},
   "source": [
    "# IMDb Movie Ratings Scrape\n",
    "\n",
    "By: Brandon Adame Gachuz"
   ]
  },
  {
   "cell_type": "markdown",
   "metadata": {},
   "source": [
    "This notebook makes use of: requests, pandas, BeautifulSoup, and Matplotlib libraries."
   ]
  },
  {
   "cell_type": "code",
   "execution_count": 2,
   "metadata": {
    "collapsed": true
   },
   "outputs": [],
   "source": [
    "from requests import get"
   ]
  },
  {
   "cell_type": "code",
   "execution_count": 3,
   "metadata": {
    "collapsed": true
   },
   "outputs": [],
   "source": [
    "url = 'https://www.imdb.com/search/title?release_date=2017&sort=num_votes,desc&page=2&ref_=adv_nxt'\n",
    "response = get(url)"
   ]
  },
  {
   "cell_type": "code",
   "execution_count": 4,
   "metadata": {},
   "outputs": [
    {
     "name": "stdout",
     "output_type": "stream",
     "text": [
      "\n",
      "\n",
      "\n",
      "<!DOCTYPE html>\n",
      "<html\n",
      "    xmlns:og=\"http://ogp.me/ns#\"\n",
      "    xmlns:fb=\"http://www.facebook.com/2008/fbml\">\n",
      "    <head>\n",
      "         \n",
      "        <meta charset=\"utf-8\">\n",
      "        <meta http-equiv=\"X-UA-Compatible\" content=\"IE=edge\">\n",
      "\n",
      "    <meta name=\"apple-itunes-app\" content=\"app-id=342792525, app-argument=imdb:///?src=mdot\">\n",
      "\n",
      "\n",
      "\n",
      "        <script type=\"text/javascript\">var IMDbTimer={starttime: new Date().getTime(),pt:'java'};</script>\n",
      "\n",
      "<script>\n",
      "    if (typeof uet == 'function') {\n",
      "      uet(\"bb\", \"LoadTitle\", {wb: 1});\n",
      "    }\n",
      "</script>\n",
      "  <script>(function(t){ (t.events = t.events || {})[\"csm_head_pre_title\"\n"
     ]
    }
   ],
   "source": [
    "print(response.text[:600])"
   ]
  },
  {
   "cell_type": "code",
   "execution_count": 5,
   "metadata": {
    "collapsed": true
   },
   "outputs": [],
   "source": [
    "from bs4 import BeautifulSoup"
   ]
  },
  {
   "cell_type": "code",
   "execution_count": 6,
   "metadata": {},
   "outputs": [
    {
     "data": {
      "text/plain": [
       "bs4.BeautifulSoup"
      ]
     },
     "execution_count": 6,
     "metadata": {},
     "output_type": "execute_result"
    }
   ],
   "source": [
    "html_soup = BeautifulSoup(response.text, 'html.parser')\n",
    "type(html_soup)"
   ]
  },
  {
   "cell_type": "code",
   "execution_count": 7,
   "metadata": {},
   "outputs": [
    {
     "name": "stdout",
     "output_type": "stream",
     "text": [
      "<class 'bs4.element.ResultSet'>\n",
      "50\n"
     ]
    }
   ],
   "source": [
    "movie_containers = html_soup.find_all('div', class_ = 'lister-item mode-advanced')\n",
    "print(type(movie_containers))\n",
    "print(len(movie_containers))"
   ]
  },
  {
   "cell_type": "code",
   "execution_count": 8,
   "metadata": {},
   "outputs": [
    {
     "data": {
      "text/plain": [
       "<div class=\"lister-item mode-advanced\">\n",
       "<div class=\"lister-top-right\">\n",
       "<div class=\"ribbonize\" data-caller=\"filmosearch\" data-tconst=\"tt5439796\"></div>\n",
       "</div>\n",
       "<div class=\"lister-item-image float-left\">\n",
       "<a href=\"/title/tt5439796/?ref_=adv_li_i\"> <img alt=\"Logan Lucky\" class=\"loadlate\" data-tconst=\"tt5439796\" height=\"98\" loadlate=\"https://m.media-amazon.com/images/M/MV5BMTYyODg0NDU1OV5BMl5BanBnXkFtZTgwNjcxMzU0MjI@._V1_UX67_CR0,0,67,98_AL_.jpg\" src=\"https://m.media-amazon.com/images/G/01/imdb/images/nopicture/large/film-184890147._CB470041630_.png\" width=\"67\"/>\n",
       "</a> </div>\n",
       "<div class=\"lister-item-content\">\n",
       "<h3 class=\"lister-item-header\">\n",
       "<span class=\"lister-item-index unbold text-primary\">51.</span>\n",
       "<a href=\"/title/tt5439796/?ref_=adv_li_tt\">Logan Lucky</a>\n",
       "<span class=\"lister-item-year text-muted unbold\">(2017)</span>\n",
       "</h3>\n",
       "<p class=\"text-muted \">\n",
       "<span class=\"certificate\">PG-13</span>\n",
       "<span class=\"ghost\">|</span>\n",
       "<span class=\"runtime\">118 min</span>\n",
       "<span class=\"ghost\">|</span>\n",
       "<span class=\"genre\">\n",
       "Comedy, Crime, Drama            </span>\n",
       "</p>\n",
       "<div class=\"ratings-bar\">\n",
       "<div class=\"inline-block ratings-imdb-rating\" data-value=\"7\" name=\"ir\">\n",
       "<span class=\"global-sprite rating-star imdb-rating\"></span>\n",
       "<strong>7.0</strong>\n",
       "</div>\n",
       "<div class=\"inline-block ratings-user-rating\">\n",
       "<span class=\"userRatingValue\" data-tconst=\"tt5439796\" id=\"urv_tt5439796\">\n",
       "<span class=\"global-sprite rating-star no-rating\"></span>\n",
       "<span class=\"rate\" data-no-rating=\"Rate this\" data-value=\"0\" name=\"ur\">Rate this</span>\n",
       "</span>\n",
       "<div class=\"starBarWidget\" id=\"sb_tt5439796\">\n",
       "<div class=\"rating rating-list\" data-auth=\"\" data-ga-identifier=\"\" data-starbar-class=\"rating-list\" data-user=\"\" id=\"tt5439796|imdb|7|7|||search|title\" itemprop=\"aggregateRating\" itemscope=\"\" itemtype=\"http://schema.org/AggregateRating\" title=\"Users rated this 7/10 (93,434 votes) - click stars to rate\">\n",
       "<meta content=\"7\" itemprop=\"ratingValue\"/>\n",
       "<meta content=\"10\" itemprop=\"bestRating\"/>\n",
       "<meta content=\"93434\" itemprop=\"ratingCount\"/>\n",
       "<span class=\"rating-bg\"> </span>\n",
       "<span class=\"rating-imdb \" style=\"width: 98px\"> </span>\n",
       "<span class=\"rating-stars\">\n",
       "<a href=\"/register/login?why=vote&amp;ref_=tt_ov_rt\" rel=\"nofollow\" title=\"Register or login to rate this title\"><span>1</span></a>\n",
       "<a href=\"/register/login?why=vote&amp;ref_=tt_ov_rt\" rel=\"nofollow\" title=\"Register or login to rate this title\"><span>2</span></a>\n",
       "<a href=\"/register/login?why=vote&amp;ref_=tt_ov_rt\" rel=\"nofollow\" title=\"Register or login to rate this title\"><span>3</span></a>\n",
       "<a href=\"/register/login?why=vote&amp;ref_=tt_ov_rt\" rel=\"nofollow\" title=\"Register or login to rate this title\"><span>4</span></a>\n",
       "<a href=\"/register/login?why=vote&amp;ref_=tt_ov_rt\" rel=\"nofollow\" title=\"Register or login to rate this title\"><span>5</span></a>\n",
       "<a href=\"/register/login?why=vote&amp;ref_=tt_ov_rt\" rel=\"nofollow\" title=\"Register or login to rate this title\"><span>6</span></a>\n",
       "<a href=\"/register/login?why=vote&amp;ref_=tt_ov_rt\" rel=\"nofollow\" title=\"Register or login to rate this title\"><span>7</span></a>\n",
       "<a href=\"/register/login?why=vote&amp;ref_=tt_ov_rt\" rel=\"nofollow\" title=\"Register or login to rate this title\"><span>8</span></a>\n",
       "<a href=\"/register/login?why=vote&amp;ref_=tt_ov_rt\" rel=\"nofollow\" title=\"Register or login to rate this title\"><span>9</span></a>\n",
       "<a href=\"/register/login?why=vote&amp;ref_=tt_ov_rt\" rel=\"nofollow\" title=\"Register or login to rate this title\"><span>10</span></a>\n",
       "</span>\n",
       "<span class=\"rating-rating \"><span class=\"value\">7</span><span class=\"grey\">/</span><span class=\"grey\">10</span></span>\n",
       "<span class=\"rating-cancel \"><a href=\"/title/tt5439796/vote?v=X;k=\" rel=\"nofollow\" title=\"Delete\"><span>X</span></a></span>\n",
       " </div>\n",
       "</div>\n",
       "</div>\n",
       "<div class=\"inline-block ratings-metascore\">\n",
       "<span class=\"metascore favorable\">78        </span>\n",
       "        Metascore\n",
       "            </div>\n",
       "</div>\n",
       "<p class=\"text-muted\">\n",
       "    Two brothers attempt to pull off a heist during a NASCAR race in North Carolina.</p>\n",
       "<p class=\"\">\n",
       "    Director:\n",
       "<a href=\"/name/nm0001752/?ref_=adv_li_dr_0\">Steven Soderbergh</a>\n",
       "<span class=\"ghost\">|</span> \n",
       "    Stars:\n",
       "<a href=\"/name/nm1475594/?ref_=adv_li_st_0\">Channing Tatum</a>, \n",
       "<a href=\"/name/nm3485845/?ref_=adv_li_st_1\">Adam Driver</a>, \n",
       "<a href=\"/name/nm0185819/?ref_=adv_li_st_2\">Daniel Craig</a>, \n",
       "<a href=\"/name/nm5008863/?ref_=adv_li_st_3\">Farrah Mackenzie</a>\n",
       "</p>\n",
       "<p class=\"sort-num_votes-visible\">\n",
       "<span class=\"text-muted\">Votes:</span>\n",
       "<span data-value=\"93434\" name=\"nv\">93,434</span>\n",
       "<span class=\"ghost\">|</span> <span class=\"text-muted\">Gross:</span>\n",
       "<span data-value=\"27,780,977\" name=\"nv\">$27.78M</span>\n",
       "</p>\n",
       "</div>\n",
       "</div>"
      ]
     },
     "execution_count": 8,
     "metadata": {},
     "output_type": "execute_result"
    }
   ],
   "source": [
    "first_movie = movie_containers[0]\n",
    "first_movie"
   ]
  },
  {
   "cell_type": "code",
   "execution_count": 9,
   "metadata": {},
   "outputs": [
    {
     "data": {
      "text/plain": [
       "<div class=\"lister-top-right\">\n",
       "<div class=\"ribbonize\" data-caller=\"filmosearch\" data-tconst=\"tt5439796\"></div>\n",
       "</div>"
      ]
     },
     "execution_count": 9,
     "metadata": {},
     "output_type": "execute_result"
    }
   ],
   "source": [
    "# Accessing first 'div' tag doesn't help\n",
    "first_movie.div"
   ]
  },
  {
   "cell_type": "code",
   "execution_count": 10,
   "metadata": {},
   "outputs": [
    {
     "data": {
      "text/plain": [
       "<h3 class=\"lister-item-header\">\n",
       "<span class=\"lister-item-index unbold text-primary\">51.</span>\n",
       "<a href=\"/title/tt5439796/?ref_=adv_li_tt\">Logan Lucky</a>\n",
       "<span class=\"lister-item-year text-muted unbold\">(2017)</span>\n",
       "</h3>"
      ]
     },
     "execution_count": 10,
     "metadata": {},
     "output_type": "execute_result"
    }
   ],
   "source": [
    "# Gets us closer to the title\n",
    "first_movie.h3"
   ]
  },
  {
   "cell_type": "code",
   "execution_count": 11,
   "metadata": {},
   "outputs": [
    {
     "data": {
      "text/plain": [
       "<a href=\"/title/tt5439796/?ref_=adv_li_tt\">Logan Lucky</a>"
      ]
     },
     "execution_count": 11,
     "metadata": {},
     "output_type": "execute_result"
    }
   ],
   "source": [
    "# Gets us to the movie title\n",
    "first_movie.h3.a"
   ]
  },
  {
   "cell_type": "code",
   "execution_count": 12,
   "metadata": {},
   "outputs": [
    {
     "data": {
      "text/plain": [
       "'Logan Lucky'"
      ]
     },
     "execution_count": 12,
     "metadata": {},
     "output_type": "execute_result"
    }
   ],
   "source": [
    "# Accessing the title text\n",
    "first_movie.h3.a.text"
   ]
  },
  {
   "cell_type": "code",
   "execution_count": 13,
   "metadata": {},
   "outputs": [
    {
     "data": {
      "text/plain": [
       "<span class=\"lister-item-year text-muted unbold\">(2017)</span>"
      ]
     },
     "execution_count": 13,
     "metadata": {},
     "output_type": "execute_result"
    }
   ],
   "source": [
    "# Accessing the 'year' to the first movie\n",
    "first_year = first_movie.h3.find('span', class_ = \"lister-item-year text-muted unbold\")\n",
    "first_year"
   ]
  },
  {
   "cell_type": "code",
   "execution_count": 14,
   "metadata": {},
   "outputs": [
    {
     "data": {
      "text/plain": [
       "'(2017)'"
      ]
     },
     "execution_count": 14,
     "metadata": {},
     "output_type": "execute_result"
    }
   ],
   "source": [
    "first_year = first_year.text\n",
    "first_year"
   ]
  },
  {
   "cell_type": "code",
   "execution_count": 15,
   "metadata": {},
   "outputs": [
    {
     "data": {
      "text/plain": [
       "<strong>7.0</strong>"
      ]
     },
     "execution_count": 15,
     "metadata": {},
     "output_type": "execute_result"
    }
   ],
   "source": [
    "# accessing movie rating\n",
    "first_movie.strong"
   ]
  },
  {
   "cell_type": "code",
   "execution_count": 16,
   "metadata": {},
   "outputs": [
    {
     "data": {
      "text/plain": [
       "7.0"
      ]
     },
     "execution_count": 16,
     "metadata": {},
     "output_type": "execute_result"
    }
   ],
   "source": [
    "# first movie rating\n",
    "first_imdb = float(first_movie.strong.text)\n",
    "first_imdb"
   ]
  },
  {
   "cell_type": "code",
   "execution_count": 17,
   "metadata": {},
   "outputs": [
    {
     "name": "stdout",
     "output_type": "stream",
     "text": [
      "78\n"
     ]
    }
   ],
   "source": [
    "# accessing the metascore for the first movie\n",
    "# the class in 'inspect element' has two whitespaces, but one was removed. Otherwise 'find()' won't find anything\n",
    "first_mscore = first_movie.find('span', class_ = 'metascore favorable')\n",
    "first_mscore = int(first_mscore.text)\n",
    "print(first_mscore)"
   ]
  },
  {
   "cell_type": "code",
   "execution_count": 18,
   "metadata": {},
   "outputs": [
    {
     "data": {
      "text/plain": [
       "<span data-value=\"93434\" name=\"nv\">93,434</span>"
      ]
     },
     "execution_count": 18,
     "metadata": {},
     "output_type": "execute_result"
    }
   ],
   "source": [
    "# first movie votes\n",
    "first_votes = first_movie.find('span', attrs={'name': 'nv'})\n",
    "first_votes"
   ]
  },
  {
   "cell_type": "code",
   "execution_count": 19,
   "metadata": {},
   "outputs": [
    {
     "data": {
      "text/plain": [
       "'93434'"
      ]
     },
     "execution_count": 19,
     "metadata": {},
     "output_type": "execute_result"
    }
   ],
   "source": [
    "first_votes['data-value']"
   ]
  },
  {
   "cell_type": "code",
   "execution_count": 20,
   "metadata": {
    "collapsed": true
   },
   "outputs": [],
   "source": [
    "first_votes = int(first_votes['data-value'])"
   ]
  },
  {
   "cell_type": "code",
   "execution_count": 21,
   "metadata": {},
   "outputs": [
    {
     "data": {
      "text/plain": [
       "NoneType"
      ]
     },
     "execution_count": 21,
     "metadata": {},
     "output_type": "execute_result"
    }
   ],
   "source": [
    "# finding movie without metascore\n",
    "# at the time of this, 'Taboo' doesn't have a metascore\n",
    "second_movie_mscore = movie_containers[1].find('div', class_ = {'ratings-metascore'})\n",
    "type(second_movie_mscore)"
   ]
  },
  {
   "cell_type": "code",
   "execution_count": 22,
   "metadata": {
    "collapsed": true
   },
   "outputs": [],
   "source": [
    "# Lists to store the scraped data in\n",
    "names = []\n",
    "years = []\n",
    "imdb_ratings = []\n",
    "metascores = []\n",
    "votes = []\n",
    "\n",
    "# Extract data from individual movie container\n",
    "for container in movie_containers:\n",
    "    \n",
    "    # If the movie has Metascore, then extract:\n",
    "    if container.find('div', class_ = 'ratings-metascore') is not None:\n",
    "        \n",
    "        # The name\n",
    "        name = container.h3.a.text\n",
    "        names.append(name)\n",
    "        \n",
    "        # The year\n",
    "        year = container.h3.find('span', class_ = 'lister-item-year').text\n",
    "        years.append(year)\n",
    "        \n",
    "        # The IMDB rating\n",
    "        imdb = float(container.strong.text)\n",
    "        imdb_ratings.append(imdb)\n",
    "        \n",
    "        # The metascore\n",
    "        m_score = container.find('span', class_ = 'metascore').text\n",
    "        metascores.append(m_score)\n",
    "        \n",
    "        # The number of votes\n",
    "        vote = container.find('span', attrs={'name': 'nv'})['data-value']\n",
    "        votes.append(int(vote))\n",
    "        "
   ]
  },
  {
   "cell_type": "code",
   "execution_count": 23,
   "metadata": {
    "collapsed": true
   },
   "outputs": [],
   "source": [
    "import pandas as pd"
   ]
  },
  {
   "cell_type": "code",
   "execution_count": 24,
   "metadata": {},
   "outputs": [
    {
     "name": "stdout",
     "output_type": "stream",
     "text": [
      "<class 'pandas.core.frame.DataFrame'>\n",
      "RangeIndex: 35 entries, 0 to 34\n",
      "Data columns (total 5 columns):\n",
      "imdb         35 non-null float64\n",
      "metascore    35 non-null object\n",
      "movie        35 non-null object\n",
      "votes        35 non-null int64\n",
      "year         35 non-null object\n",
      "dtypes: float64(1), int64(1), object(3)\n",
      "memory usage: 1.4+ KB\n",
      "None\n"
     ]
    },
    {
     "data": {
      "text/html": [
       "<div>\n",
       "<style>\n",
       "    .dataframe thead tr:only-child th {\n",
       "        text-align: right;\n",
       "    }\n",
       "\n",
       "    .dataframe thead th {\n",
       "        text-align: left;\n",
       "    }\n",
       "\n",
       "    .dataframe tbody tr th {\n",
       "        vertical-align: top;\n",
       "    }\n",
       "</style>\n",
       "<table border=\"1\" class=\"dataframe\">\n",
       "  <thead>\n",
       "    <tr style=\"text-align: right;\">\n",
       "      <th></th>\n",
       "      <th>imdb</th>\n",
       "      <th>metascore</th>\n",
       "      <th>movie</th>\n",
       "      <th>votes</th>\n",
       "      <th>year</th>\n",
       "    </tr>\n",
       "  </thead>\n",
       "  <tbody>\n",
       "    <tr>\n",
       "      <th>0</th>\n",
       "      <td>7.0</td>\n",
       "      <td>78</td>\n",
       "      <td>Logan Lucky</td>\n",
       "      <td>93434</td>\n",
       "      <td>(2017)</td>\n",
       "    </tr>\n",
       "    <tr>\n",
       "      <th>1</th>\n",
       "      <td>7.2</td>\n",
       "      <td>83</td>\n",
       "      <td>The Post</td>\n",
       "      <td>87982</td>\n",
       "      <td>(2017)</td>\n",
       "    </tr>\n",
       "    <tr>\n",
       "      <th>2</th>\n",
       "      <td>8.0</td>\n",
       "      <td>66</td>\n",
       "      <td>Wonder</td>\n",
       "      <td>87933</td>\n",
       "      <td>(I) (2017)</td>\n",
       "    </tr>\n",
       "    <tr>\n",
       "      <th>3</th>\n",
       "      <td>7.2</td>\n",
       "      <td>67</td>\n",
       "      <td>T2 Trainspotting</td>\n",
       "      <td>86070</td>\n",
       "      <td>(2017)</td>\n",
       "    </tr>\n",
       "    <tr>\n",
       "      <th>4</th>\n",
       "      <td>6.0</td>\n",
       "      <td>44</td>\n",
       "      <td>Power Rangers</td>\n",
       "      <td>85670</td>\n",
       "      <td>(2017)</td>\n",
       "    </tr>\n",
       "    <tr>\n",
       "      <th>5</th>\n",
       "      <td>6.3</td>\n",
       "      <td>50</td>\n",
       "      <td>The Boss Baby</td>\n",
       "      <td>84228</td>\n",
       "      <td>(2017)</td>\n",
       "    </tr>\n",
       "    <tr>\n",
       "      <th>6</th>\n",
       "      <td>7.5</td>\n",
       "      <td>71</td>\n",
       "      <td>Molly's Game</td>\n",
       "      <td>81900</td>\n",
       "      <td>(2017)</td>\n",
       "    </tr>\n",
       "    <tr>\n",
       "      <th>7</th>\n",
       "      <td>6.3</td>\n",
       "      <td>49</td>\n",
       "      <td>Despicable Me 3</td>\n",
       "      <td>80091</td>\n",
       "      <td>(2017)</td>\n",
       "    </tr>\n",
       "    <tr>\n",
       "      <th>8</th>\n",
       "      <td>6.5</td>\n",
       "      <td>62</td>\n",
       "      <td>Annabelle: Creation</td>\n",
       "      <td>77667</td>\n",
       "      <td>(2017)</td>\n",
       "    </tr>\n",
       "    <tr>\n",
       "      <th>9</th>\n",
       "      <td>4.6</td>\n",
       "      <td>33</td>\n",
       "      <td>Fifty Shades Darker</td>\n",
       "      <td>74951</td>\n",
       "      <td>(2017)</td>\n",
       "    </tr>\n",
       "    <tr>\n",
       "      <th>10</th>\n",
       "      <td>7.6</td>\n",
       "      <td>60</td>\n",
       "      <td>Gifted</td>\n",
       "      <td>73280</td>\n",
       "      <td>(2017)</td>\n",
       "    </tr>\n",
       "    <tr>\n",
       "      <th>11</th>\n",
       "      <td>5.2</td>\n",
       "      <td>42</td>\n",
       "      <td>xXx: Return of Xander Cage</td>\n",
       "      <td>72690</td>\n",
       "      <td>(2017)</td>\n",
       "    </tr>\n",
       "    <tr>\n",
       "      <th>12</th>\n",
       "      <td>6.9</td>\n",
       "      <td>47</td>\n",
       "      <td>What Happened to Monday</td>\n",
       "      <td>72462</td>\n",
       "      <td>(2017)</td>\n",
       "    </tr>\n",
       "    <tr>\n",
       "      <th>13</th>\n",
       "      <td>7.1</td>\n",
       "      <td>73</td>\n",
       "      <td>The Killing of a Sacred Deer</td>\n",
       "      <td>72116</td>\n",
       "      <td>(2017)</td>\n",
       "    </tr>\n",
       "    <tr>\n",
       "      <th>14</th>\n",
       "      <td>7.0</td>\n",
       "      <td>55</td>\n",
       "      <td>The Foreigner</td>\n",
       "      <td>71204</td>\n",
       "      <td>(2017)</td>\n",
       "    </tr>\n",
       "    <tr>\n",
       "      <th>15</th>\n",
       "      <td>7.6</td>\n",
       "      <td>90</td>\n",
       "      <td>Phantom Thread</td>\n",
       "      <td>69718</td>\n",
       "      <td>(2017)</td>\n",
       "    </tr>\n",
       "    <tr>\n",
       "      <th>16</th>\n",
       "      <td>5.3</td>\n",
       "      <td>21</td>\n",
       "      <td>Geostorm</td>\n",
       "      <td>68272</td>\n",
       "      <td>(2017)</td>\n",
       "    </tr>\n",
       "    <tr>\n",
       "      <th>17</th>\n",
       "      <td>5.3</td>\n",
       "      <td>43</td>\n",
       "      <td>The Circle</td>\n",
       "      <td>65910</td>\n",
       "      <td>(I) (2017)</td>\n",
       "    </tr>\n",
       "    <tr>\n",
       "      <th>18</th>\n",
       "      <td>6.5</td>\n",
       "      <td>57</td>\n",
       "      <td>Happy Death Day</td>\n",
       "      <td>64551</td>\n",
       "      <td>(2017)</td>\n",
       "    </tr>\n",
       "    <tr>\n",
       "      <th>19</th>\n",
       "      <td>7.3</td>\n",
       "      <td>75</td>\n",
       "      <td>Okja</td>\n",
       "      <td>64300</td>\n",
       "      <td>(2017)</td>\n",
       "    </tr>\n",
       "    <tr>\n",
       "      <th>20</th>\n",
       "      <td>6.2</td>\n",
       "      <td>78</td>\n",
       "      <td>It Comes at Night</td>\n",
       "      <td>61671</td>\n",
       "      <td>(2017)</td>\n",
       "    </tr>\n",
       "    <tr>\n",
       "      <th>21</th>\n",
       "      <td>4.6</td>\n",
       "      <td>43</td>\n",
       "      <td>Death Note</td>\n",
       "      <td>61230</td>\n",
       "      <td>(2017)</td>\n",
       "    </tr>\n",
       "    <tr>\n",
       "      <th>22</th>\n",
       "      <td>6.6</td>\n",
       "      <td>50</td>\n",
       "      <td>Going in Style</td>\n",
       "      <td>59818</td>\n",
       "      <td>(2017)</td>\n",
       "    </tr>\n",
       "    <tr>\n",
       "      <th>23</th>\n",
       "      <td>5.7</td>\n",
       "      <td>63</td>\n",
       "      <td>Downsizing</td>\n",
       "      <td>59514</td>\n",
       "      <td>(2017)</td>\n",
       "    </tr>\n",
       "    <tr>\n",
       "      <th>24</th>\n",
       "      <td>7.6</td>\n",
       "      <td>92</td>\n",
       "      <td>The Florida Project</td>\n",
       "      <td>59146</td>\n",
       "      <td>(2017)</td>\n",
       "    </tr>\n",
       "    <tr>\n",
       "      <th>25</th>\n",
       "      <td>6.6</td>\n",
       "      <td>77</td>\n",
       "      <td>Gerald's Game</td>\n",
       "      <td>51596</td>\n",
       "      <td>(2017)</td>\n",
       "    </tr>\n",
       "    <tr>\n",
       "      <th>26</th>\n",
       "      <td>7.3</td>\n",
       "      <td>59</td>\n",
       "      <td>Shot Caller</td>\n",
       "      <td>50852</td>\n",
       "      <td>(2017)</td>\n",
       "    </tr>\n",
       "    <tr>\n",
       "      <th>27</th>\n",
       "      <td>6.2</td>\n",
       "      <td>45</td>\n",
       "      <td>American Assassin</td>\n",
       "      <td>50605</td>\n",
       "      <td>(2017)</td>\n",
       "    </tr>\n",
       "    <tr>\n",
       "      <th>28</th>\n",
       "      <td>6.8</td>\n",
       "      <td>59</td>\n",
       "      <td>Cars 3</td>\n",
       "      <td>50433</td>\n",
       "      <td>(2017)</td>\n",
       "    </tr>\n",
       "    <tr>\n",
       "      <th>29</th>\n",
       "      <td>5.8</td>\n",
       "      <td>39</td>\n",
       "      <td>Jigsaw</td>\n",
       "      <td>49059</td>\n",
       "      <td>(I) (2017)</td>\n",
       "    </tr>\n",
       "    <tr>\n",
       "      <th>30</th>\n",
       "      <td>6.9</td>\n",
       "      <td>72</td>\n",
       "      <td>All the Money in the World</td>\n",
       "      <td>48851</td>\n",
       "      <td>(2017)</td>\n",
       "    </tr>\n",
       "    <tr>\n",
       "      <th>31</th>\n",
       "      <td>6.4</td>\n",
       "      <td>48</td>\n",
       "      <td>The Mountain Between Us</td>\n",
       "      <td>48523</td>\n",
       "      <td>(2017)</td>\n",
       "    </tr>\n",
       "    <tr>\n",
       "      <th>32</th>\n",
       "      <td>7.0</td>\n",
       "      <td>43</td>\n",
       "      <td>A Dog's Purpose</td>\n",
       "      <td>47191</td>\n",
       "      <td>(2017)</td>\n",
       "    </tr>\n",
       "    <tr>\n",
       "      <th>33</th>\n",
       "      <td>7.2</td>\n",
       "      <td>88</td>\n",
       "      <td>The Death of Stalin</td>\n",
       "      <td>46690</td>\n",
       "      <td>(2017)</td>\n",
       "    </tr>\n",
       "    <tr>\n",
       "      <th>34</th>\n",
       "      <td>6.9</td>\n",
       "      <td>84</td>\n",
       "      <td>You Were Never Really Here</td>\n",
       "      <td>46230</td>\n",
       "      <td>(2017)</td>\n",
       "    </tr>\n",
       "  </tbody>\n",
       "</table>\n",
       "</div>"
      ],
      "text/plain": [
       "    imdb   metascore                         movie  votes        year\n",
       "0    7.0  78                           Logan Lucky  93434      (2017)\n",
       "1    7.2  83                              The Post  87982      (2017)\n",
       "2    8.0  66                                Wonder  87933  (I) (2017)\n",
       "3    7.2  67                      T2 Trainspotting  86070      (2017)\n",
       "4    6.0  44                         Power Rangers  85670      (2017)\n",
       "5    6.3  50                         The Boss Baby  84228      (2017)\n",
       "6    7.5  71                          Molly's Game  81900      (2017)\n",
       "7    6.3  49                       Despicable Me 3  80091      (2017)\n",
       "8    6.5  62                   Annabelle: Creation  77667      (2017)\n",
       "9    4.6  33                   Fifty Shades Darker  74951      (2017)\n",
       "10   7.6  60                                Gifted  73280      (2017)\n",
       "11   5.2  42            xXx: Return of Xander Cage  72690      (2017)\n",
       "12   6.9  47               What Happened to Monday  72462      (2017)\n",
       "13   7.1  73          The Killing of a Sacred Deer  72116      (2017)\n",
       "14   7.0  55                         The Foreigner  71204      (2017)\n",
       "15   7.6  90                        Phantom Thread  69718      (2017)\n",
       "16   5.3  21                              Geostorm  68272      (2017)\n",
       "17   5.3  43                            The Circle  65910  (I) (2017)\n",
       "18   6.5  57                       Happy Death Day  64551      (2017)\n",
       "19   7.3  75                                  Okja  64300      (2017)\n",
       "20   6.2  78                     It Comes at Night  61671      (2017)\n",
       "21   4.6  43                            Death Note  61230      (2017)\n",
       "22   6.6  50                        Going in Style  59818      (2017)\n",
       "23   5.7  63                            Downsizing  59514      (2017)\n",
       "24   7.6  92                   The Florida Project  59146      (2017)\n",
       "25   6.6  77                         Gerald's Game  51596      (2017)\n",
       "26   7.3  59                           Shot Caller  50852      (2017)\n",
       "27   6.2  45                     American Assassin  50605      (2017)\n",
       "28   6.8  59                                Cars 3  50433      (2017)\n",
       "29   5.8  39                                Jigsaw  49059  (I) (2017)\n",
       "30   6.9  72            All the Money in the World  48851      (2017)\n",
       "31   6.4  48               The Mountain Between Us  48523      (2017)\n",
       "32   7.0  43                       A Dog's Purpose  47191      (2017)\n",
       "33   7.2  88                   The Death of Stalin  46690      (2017)\n",
       "34   6.9  84            You Were Never Really Here  46230      (2017)"
      ]
     },
     "execution_count": 24,
     "metadata": {},
     "output_type": "execute_result"
    }
   ],
   "source": [
    "test_df = pd.DataFrame({'movie': names,\n",
    "                       'year': years,\n",
    "                       'imdb': imdb_ratings,\n",
    "                       'metascore': metascores,\n",
    "                       'votes': votes})\n",
    "print(test_df.info())\n",
    "test_df"
   ]
  },
  {
   "cell_type": "markdown",
   "metadata": {},
   "source": [
    "# The script for multiple pages\n",
    "\n",
    "Scraping multiple pages is a bit more challenging. We'll build upon our one-page script by doing three more things:\n",
    "\n",
    "1. Making all the requests we want from within the loop.\n",
    "2. Controlling the loop's rate to avoid bombarding the server with requests.\n",
    "3. Monitoring the loop while it runs."
   ]
  },
  {
   "cell_type": "markdown",
   "metadata": {},
   "source": [
    "### Changing the URL's Parameter\n",
    "\n",
    "'https://www.imdb.com/search/title?release_date=2017&sort=num_votes,desc&page=2&ref_=adv_nxt'\n",
    "\n",
    "As we are making the requests, we'll only have to vary the values of only two parameters of the URL: the release_date parameter, and page. Let's prepare the values we'll need for the forthcoming loop. In the next code cell we will:\n",
    "\n",
    "* Create a list called pages, and populate it with the strings corresponding to the first 4 pages.\n",
    "* Create a list called years_url and populate it with the strings corresponding to the years 2000-2017."
   ]
  },
  {
   "cell_type": "code",
   "execution_count": 25,
   "metadata": {
    "collapsed": true
   },
   "outputs": [],
   "source": [
    "pages = [str(i) for i in range(1,5)]\n",
    "years_url = [str(i) for i in range(2000,2018)]"
   ]
  },
  {
   "cell_type": "markdown",
   "metadata": {},
   "source": [
    "### Controlling Crawl Rate\n",
    "\n",
    "Controlling the rate of crawling is beneficial for us, and for the website we are scraping. If we avoid hammering the server with tens of requests per second, then we are much less likely to get our IP address banned. We also avoid disrupting the activity of the website we scrape by allowing the server to respond to other users' requests too.\n",
    "\n",
    "We'll control the loop's rate by using the sleep() function from Python's time module. sleep() will pause the execution of the loop for a specified amount of seconds.\n",
    "\n",
    "To mimic human behavior, we'll vary the amount of waiting time between requests by using the randint() function from the Python's random module. randint() randomly generates integers within a specified interval."
   ]
  },
  {
   "cell_type": "code",
   "execution_count": 26,
   "metadata": {
    "collapsed": true
   },
   "outputs": [],
   "source": [
    "from time import sleep\n",
    "from random import randint"
   ]
  },
  {
   "cell_type": "markdown",
   "metadata": {},
   "source": [
    "### Monitoring the loop as it's still going\n",
    "\n",
    "Given that we're scraping 72 pages, it would be nice if we could find a way to monitor the scraping process as it's still going. This feature is definitely optional, but it can be very helpful in the testing and debugging process. Also, the greater the number of pages, the more helpful the monitoring becomes. If you are going to scrape hundreds or thousands of web pages in a single code run, I would say that this feature becomes a must.\n",
    "\n",
    "For our script, we'll make use of this feature, and monitor the following parameters:\n",
    "\n",
    "* The frequency (speed) of requests, so we make sure our program is not overloading the server.\n",
    "* The number of requests, so we can halt the loop in case the number of expected requests is exceeded.\n",
    "* The status code of our requests, so we make sure the server is sending back the proper responses."
   ]
  },
  {
   "cell_type": "markdown",
   "metadata": {},
   "source": [
    "Since we're going to make 72 requests, our work will look a bit untidy as the output accumulates. To avoid that, we'll clear the output after each iteration, and replace it with information about the most recent request."
   ]
  },
  {
   "cell_type": "code",
   "execution_count": 27,
   "metadata": {
    "collapsed": true
   },
   "outputs": [],
   "source": [
    "from time import time\n",
    "from IPython.core.display import clear_output"
   ]
  },
  {
   "cell_type": "code",
   "execution_count": 28,
   "metadata": {},
   "outputs": [
    {
     "name": "stdout",
     "output_type": "stream",
     "text": [
      "Requests: 5; Frequency: 0.49862321491799155 requests/s\n"
     ]
    }
   ],
   "source": [
    "start_time = time()\n",
    "requests = 0\n",
    "\n",
    "for _ in range(5):\n",
    "    # A request would go here\n",
    "    requests += 1\n",
    "    sleep(randint(1,3))\n",
    "    elapsed_time = time() - start_time\n",
    "    print('Requests: {}; Frequency: {} requests/s'.format(requests, requests/elapsed_time))\n",
    "    clear_output(wait = True)"
   ]
  },
  {
   "cell_type": "markdown",
   "metadata": {},
   "source": [
    "### Monitor status code"
   ]
  },
  {
   "cell_type": "code",
   "execution_count": 29,
   "metadata": {
    "collapsed": true
   },
   "outputs": [],
   "source": [
    "from warnings import warn"
   ]
  },
  {
   "cell_type": "code",
   "execution_count": 30,
   "metadata": {
    "collapsed": true
   },
   "outputs": [],
   "source": [
    "# warn(\"Warning Simulation\")"
   ]
  },
  {
   "cell_type": "code",
   "execution_count": 31,
   "metadata": {
    "collapsed": true
   },
   "outputs": [],
   "source": [
    "headers = {\"Accept-Language\": \"en-US, en;q=0.5\"}"
   ]
  },
  {
   "cell_type": "markdown",
   "metadata": {},
   "source": [
    "## Piecing everything together"
   ]
  },
  {
   "cell_type": "code",
   "execution_count": 32,
   "metadata": {},
   "outputs": [
    {
     "name": "stdout",
     "output_type": "stream",
     "text": [
      "Requests: 72; Frequency: 0.0758127272668816 requests/s\n"
     ]
    }
   ],
   "source": [
    "# Redeclaring the lists to store data in\n",
    "names = []\n",
    "years = []\n",
    "imdb_ratings = []\n",
    "metascores = []\n",
    "votes = []\n",
    "\n",
    "# Preparing the monitoring of the loop\n",
    "start_time = time()\n",
    "requests = 0\n",
    "\n",
    "# For every year in the interval 2000-2017\n",
    "for year_url in years_url:\n",
    "    \n",
    "    # For every page in the interval 1-4\n",
    "    for page in pages:\n",
    "        \n",
    "        # Make the 'GET' request\n",
    "        response = get('http://www.imdb.com/search/title?release_date' + year_url + '&sort=num_votes,desc&page' + \n",
    "                      page, headers = headers)\n",
    "        \n",
    "        # Pause the loop\n",
    "        sleep(randint(8,15))\n",
    "        \n",
    "        # Monitor the requests\n",
    "        requests += 1\n",
    "        elapsed_time = time() - start_time\n",
    "        print('Requests: {}; Frequency: {} requests/s'.format(requests, requests/elapsed_time))\n",
    "        clear_output(wait=True)\n",
    "        \n",
    "        # Throw a warning for non-200 status codes\n",
    "        if response.status_code != 200:\n",
    "            warn('Request: {}; Status code: {}'.format(requests, response.status_code))\n",
    "            \n",
    "        # Break the loop if the number of requests is greater than expected\n",
    "        if requests > 72:\n",
    "            warn('Number of requests was greater than expected')\n",
    "            break\n",
    "            \n",
    "        # Parse the content of the request with BeautifulSoup\n",
    "        page_html = BeautifulSoup(response.text, 'html.parser')\n",
    "        \n",
    "        # Select all the 50 movie containers from a single page\n",
    "        mv_containers = page_html.find_all('div', class_ = 'lister-item mode-advanced')\n",
    "        \n",
    "        # For every movie of these 50\n",
    "        for container in mv_containers:\n",
    "            # if the movie has a Metascore, then:\n",
    "            if container.find('div', class_ = 'ratings-metascore') is not None:\n",
    "                \n",
    "                # scrape the name\n",
    "                name = container.h3.a.text\n",
    "                names.append(name)\n",
    "                \n",
    "                # scrape the year\n",
    "                year = container.h3.find('span', class_ = 'lister-item-year').text\n",
    "                years.append(year)\n",
    "                \n",
    "                # scrape the IMDB rating\n",
    "                imdb = float(container.strong.text)\n",
    "                imdb_ratings.append(imdb)\n",
    "                \n",
    "                # scrape the Metascore\n",
    "                m_score = container.find('span', class_ = 'metascore').text\n",
    "                metascores.append(int(m_score))\n",
    "                \n",
    "                # scrape the number of votes\n",
    "                vote = container.find('span', attrs={'name': 'nv'})['data-value']\n",
    "                votes.append(int(vote))"
   ]
  },
  {
   "cell_type": "markdown",
   "metadata": {},
   "source": [
    "# Analyzing the data using pandas"
   ]
  },
  {
   "cell_type": "code",
   "execution_count": 33,
   "metadata": {
    "collapsed": true
   },
   "outputs": [],
   "source": [
    "# Creating DataFrame object with scraped data\n",
    "movie_ratings = pd.DataFrame({'movie': names,\n",
    "                             'year': years,\n",
    "                             'imdb': imdb_ratings,\n",
    "                             'metascore': metascores,\n",
    "                             'votes': votes})"
   ]
  },
  {
   "cell_type": "code",
   "execution_count": 34,
   "metadata": {},
   "outputs": [
    {
     "name": "stdout",
     "output_type": "stream",
     "text": [
      "<class 'pandas.core.frame.DataFrame'>\n",
      "RangeIndex: 3456 entries, 0 to 3455\n",
      "Data columns (total 5 columns):\n",
      "imdb         3456 non-null float64\n",
      "metascore    3456 non-null int64\n",
      "movie        3456 non-null object\n",
      "votes        3456 non-null int64\n",
      "year         3456 non-null object\n",
      "dtypes: float64(1), int64(2), object(2)\n",
      "memory usage: 135.1+ KB\n",
      "None\n"
     ]
    }
   ],
   "source": [
    "print(movie_ratings.info())"
   ]
  },
  {
   "cell_type": "code",
   "execution_count": 35,
   "metadata": {},
   "outputs": [
    {
     "data": {
      "text/html": [
       "<div>\n",
       "<style>\n",
       "    .dataframe thead tr:only-child th {\n",
       "        text-align: right;\n",
       "    }\n",
       "\n",
       "    .dataframe thead th {\n",
       "        text-align: left;\n",
       "    }\n",
       "\n",
       "    .dataframe tbody tr th {\n",
       "        vertical-align: top;\n",
       "    }\n",
       "</style>\n",
       "<table border=\"1\" class=\"dataframe\">\n",
       "  <thead>\n",
       "    <tr style=\"text-align: right;\">\n",
       "      <th></th>\n",
       "      <th>imdb</th>\n",
       "      <th>metascore</th>\n",
       "      <th>movie</th>\n",
       "      <th>votes</th>\n",
       "      <th>year</th>\n",
       "    </tr>\n",
       "  </thead>\n",
       "  <tbody>\n",
       "    <tr>\n",
       "      <th>0</th>\n",
       "      <td>9.3</td>\n",
       "      <td>80</td>\n",
       "      <td>The Shawshank Redemption</td>\n",
       "      <td>1996917</td>\n",
       "      <td>(1994)</td>\n",
       "    </tr>\n",
       "    <tr>\n",
       "      <th>1</th>\n",
       "      <td>9.0</td>\n",
       "      <td>84</td>\n",
       "      <td>The Dark Knight</td>\n",
       "      <td>1966522</td>\n",
       "      <td>(2008)</td>\n",
       "    </tr>\n",
       "    <tr>\n",
       "      <th>2</th>\n",
       "      <td>8.8</td>\n",
       "      <td>74</td>\n",
       "      <td>Inception</td>\n",
       "      <td>1747479</td>\n",
       "      <td>(2010)</td>\n",
       "    </tr>\n",
       "    <tr>\n",
       "      <th>3</th>\n",
       "      <td>8.8</td>\n",
       "      <td>66</td>\n",
       "      <td>Fight Club</td>\n",
       "      <td>1598659</td>\n",
       "      <td>(1999)</td>\n",
       "    </tr>\n",
       "    <tr>\n",
       "      <th>4</th>\n",
       "      <td>8.9</td>\n",
       "      <td>94</td>\n",
       "      <td>Pulp Fiction</td>\n",
       "      <td>1559476</td>\n",
       "      <td>(1994)</td>\n",
       "    </tr>\n",
       "    <tr>\n",
       "      <th>5</th>\n",
       "      <td>8.8</td>\n",
       "      <td>82</td>\n",
       "      <td>Forrest Gump</td>\n",
       "      <td>1519618</td>\n",
       "      <td>(1994)</td>\n",
       "    </tr>\n",
       "    <tr>\n",
       "      <th>6</th>\n",
       "      <td>8.8</td>\n",
       "      <td>92</td>\n",
       "      <td>The Lord of the Rings: The Fellowship of the Ring</td>\n",
       "      <td>1439247</td>\n",
       "      <td>(2001)</td>\n",
       "    </tr>\n",
       "    <tr>\n",
       "      <th>7</th>\n",
       "      <td>8.7</td>\n",
       "      <td>73</td>\n",
       "      <td>The Matrix</td>\n",
       "      <td>1433108</td>\n",
       "      <td>(1999)</td>\n",
       "    </tr>\n",
       "    <tr>\n",
       "      <th>8</th>\n",
       "      <td>8.9</td>\n",
       "      <td>94</td>\n",
       "      <td>The Lord of the Rings: The Return of the King</td>\n",
       "      <td>1422284</td>\n",
       "      <td>(2003)</td>\n",
       "    </tr>\n",
       "    <tr>\n",
       "      <th>9</th>\n",
       "      <td>9.2</td>\n",
       "      <td>100</td>\n",
       "      <td>The Godfather</td>\n",
       "      <td>1367898</td>\n",
       "      <td>(1972)</td>\n",
       "    </tr>\n",
       "  </tbody>\n",
       "</table>\n",
       "</div>"
      ],
      "text/plain": [
       "   imdb  metascore                                              movie  \\\n",
       "0   9.3         80                           The Shawshank Redemption   \n",
       "1   9.0         84                                    The Dark Knight   \n",
       "2   8.8         74                                          Inception   \n",
       "3   8.8         66                                         Fight Club   \n",
       "4   8.9         94                                       Pulp Fiction   \n",
       "5   8.8         82                                       Forrest Gump   \n",
       "6   8.8         92  The Lord of the Rings: The Fellowship of the Ring   \n",
       "7   8.7         73                                         The Matrix   \n",
       "8   8.9         94      The Lord of the Rings: The Return of the King   \n",
       "9   9.2        100                                      The Godfather   \n",
       "\n",
       "     votes    year  \n",
       "0  1996917  (1994)  \n",
       "1  1966522  (2008)  \n",
       "2  1747479  (2010)  \n",
       "3  1598659  (1999)  \n",
       "4  1559476  (1994)  \n",
       "5  1519618  (1994)  \n",
       "6  1439247  (2001)  \n",
       "7  1433108  (1999)  \n",
       "8  1422284  (2003)  \n",
       "9  1367898  (1972)  "
      ]
     },
     "execution_count": 35,
     "metadata": {},
     "output_type": "execute_result"
    }
   ],
   "source": [
    "movie_ratings.head(10)"
   ]
  },
  {
   "cell_type": "code",
   "execution_count": 36,
   "metadata": {},
   "outputs": [
    {
     "data": {
      "text/plain": [
       "pandas.core.frame.DataFrame"
      ]
     },
     "execution_count": 36,
     "metadata": {},
     "output_type": "execute_result"
    }
   ],
   "source": [
    "type(movie_ratings)"
   ]
  },
  {
   "cell_type": "code",
   "execution_count": 37,
   "metadata": {},
   "outputs": [
    {
     "data": {
      "text/html": [
       "<div>\n",
       "<style>\n",
       "    .dataframe thead tr:only-child th {\n",
       "        text-align: right;\n",
       "    }\n",
       "\n",
       "    .dataframe thead th {\n",
       "        text-align: left;\n",
       "    }\n",
       "\n",
       "    .dataframe tbody tr th {\n",
       "        vertical-align: top;\n",
       "    }\n",
       "</style>\n",
       "<table border=\"1\" class=\"dataframe\">\n",
       "  <thead>\n",
       "    <tr style=\"text-align: right;\">\n",
       "      <th></th>\n",
       "      <th>movie</th>\n",
       "      <th>year</th>\n",
       "      <th>imdb</th>\n",
       "      <th>metascore</th>\n",
       "      <th>votes</th>\n",
       "    </tr>\n",
       "  </thead>\n",
       "  <tbody>\n",
       "    <tr>\n",
       "      <th>0</th>\n",
       "      <td>The Shawshank Redemption</td>\n",
       "      <td>(1994)</td>\n",
       "      <td>9.3</td>\n",
       "      <td>80</td>\n",
       "      <td>1996917</td>\n",
       "    </tr>\n",
       "    <tr>\n",
       "      <th>1</th>\n",
       "      <td>The Dark Knight</td>\n",
       "      <td>(2008)</td>\n",
       "      <td>9.0</td>\n",
       "      <td>84</td>\n",
       "      <td>1966522</td>\n",
       "    </tr>\n",
       "    <tr>\n",
       "      <th>2</th>\n",
       "      <td>Inception</td>\n",
       "      <td>(2010)</td>\n",
       "      <td>8.8</td>\n",
       "      <td>74</td>\n",
       "      <td>1747479</td>\n",
       "    </tr>\n",
       "    <tr>\n",
       "      <th>3</th>\n",
       "      <td>Fight Club</td>\n",
       "      <td>(1999)</td>\n",
       "      <td>8.8</td>\n",
       "      <td>66</td>\n",
       "      <td>1598659</td>\n",
       "    </tr>\n",
       "    <tr>\n",
       "      <th>4</th>\n",
       "      <td>Pulp Fiction</td>\n",
       "      <td>(1994)</td>\n",
       "      <td>8.9</td>\n",
       "      <td>94</td>\n",
       "      <td>1559476</td>\n",
       "    </tr>\n",
       "  </tbody>\n",
       "</table>\n",
       "</div>"
      ],
      "text/plain": [
       "                      movie    year  imdb  metascore    votes\n",
       "0  The Shawshank Redemption  (1994)   9.3         80  1996917\n",
       "1           The Dark Knight  (2008)   9.0         84  1966522\n",
       "2                 Inception  (2010)   8.8         74  1747479\n",
       "3                Fight Club  (1999)   8.8         66  1598659\n",
       "4              Pulp Fiction  (1994)   8.9         94  1559476"
      ]
     },
     "execution_count": 37,
     "metadata": {},
     "output_type": "execute_result"
    }
   ],
   "source": [
    "movie_ratings = movie_ratings[['movie', 'year', 'imdb', 'metascore', 'votes']]\n",
    "movie_ratings.head()"
   ]
  },
  {
   "cell_type": "code",
   "execution_count": 38,
   "metadata": {},
   "outputs": [
    {
     "data": {
      "text/plain": [
       "array(['(1994)', '(2008)', '(2010)', '(1999)', '(2001)', '(2003)',\n",
       "       '(1972)', '(2012)', '(2002)', '(1995)', '(2014)', '(2000)',\n",
       "       '(2005)', '(1977)', '(1991)', '(2009)', '(1998)', '(1993)',\n",
       "       '(2006)', '(1980)', '(2013)', '(1974)', '(1997)', '(1985)',\n",
       "       '(1990)', '(1983)'], dtype=object)"
      ]
     },
     "execution_count": 38,
     "metadata": {},
     "output_type": "execute_result"
    }
   ],
   "source": [
    "movie_ratings['year'].unique()"
   ]
  },
  {
   "cell_type": "code",
   "execution_count": 39,
   "metadata": {
    "collapsed": true
   },
   "outputs": [],
   "source": [
    "movie_ratings.loc[:, 'year'] = movie_ratings['year'].str[-5:-1].astype(int)"
   ]
  },
  {
   "cell_type": "code",
   "execution_count": 40,
   "metadata": {},
   "outputs": [
    {
     "data": {
      "text/plain": [
       "0    1994\n",
       "1    2008\n",
       "2    2010\n",
       "3    1999\n",
       "4    1994\n",
       "Name: year, dtype: int64"
      ]
     },
     "execution_count": 40,
     "metadata": {},
     "output_type": "execute_result"
    }
   ],
   "source": [
    "movie_ratings['year'].head()"
   ]
  },
  {
   "cell_type": "code",
   "execution_count": 41,
   "metadata": {},
   "outputs": [
    {
     "data": {
      "text/html": [
       "<div>\n",
       "<style>\n",
       "    .dataframe thead tr:only-child th {\n",
       "        text-align: right;\n",
       "    }\n",
       "\n",
       "    .dataframe thead th {\n",
       "        text-align: left;\n",
       "    }\n",
       "\n",
       "    .dataframe tbody tr th {\n",
       "        vertical-align: top;\n",
       "    }\n",
       "</style>\n",
       "<table border=\"1\" class=\"dataframe\">\n",
       "  <thead>\n",
       "    <tr style=\"text-align: right;\">\n",
       "      <th></th>\n",
       "      <th>imdb</th>\n",
       "      <th>metascore</th>\n",
       "    </tr>\n",
       "  </thead>\n",
       "  <tbody>\n",
       "    <tr>\n",
       "      <th>min</th>\n",
       "      <td>7.8</td>\n",
       "      <td>58.0</td>\n",
       "    </tr>\n",
       "    <tr>\n",
       "      <th>max</th>\n",
       "      <td>9.3</td>\n",
       "      <td>100.0</td>\n",
       "    </tr>\n",
       "  </tbody>\n",
       "</table>\n",
       "</div>"
      ],
      "text/plain": [
       "     imdb  metascore\n",
       "min   7.8       58.0\n",
       "max   9.3      100.0"
      ]
     },
     "execution_count": 41,
     "metadata": {},
     "output_type": "execute_result"
    }
   ],
   "source": [
    "movie_ratings.describe().loc[['min', 'max'], ['imdb', 'metascore']]"
   ]
  },
  {
   "cell_type": "code",
   "execution_count": 42,
   "metadata": {},
   "outputs": [
    {
     "data": {
      "text/html": [
       "<div>\n",
       "<style>\n",
       "    .dataframe thead tr:only-child th {\n",
       "        text-align: right;\n",
       "    }\n",
       "\n",
       "    .dataframe thead th {\n",
       "        text-align: left;\n",
       "    }\n",
       "\n",
       "    .dataframe tbody tr th {\n",
       "        vertical-align: top;\n",
       "    }\n",
       "</style>\n",
       "<table border=\"1\" class=\"dataframe\">\n",
       "  <thead>\n",
       "    <tr style=\"text-align: right;\">\n",
       "      <th></th>\n",
       "      <th>movie</th>\n",
       "      <th>year</th>\n",
       "      <th>imdb</th>\n",
       "      <th>metascore</th>\n",
       "      <th>votes</th>\n",
       "      <th>n_imdb</th>\n",
       "    </tr>\n",
       "  </thead>\n",
       "  <tbody>\n",
       "    <tr>\n",
       "      <th>0</th>\n",
       "      <td>The Shawshank Redemption</td>\n",
       "      <td>1994</td>\n",
       "      <td>9.3</td>\n",
       "      <td>80</td>\n",
       "      <td>1996917</td>\n",
       "      <td>93.0</td>\n",
       "    </tr>\n",
       "    <tr>\n",
       "      <th>1</th>\n",
       "      <td>The Dark Knight</td>\n",
       "      <td>2008</td>\n",
       "      <td>9.0</td>\n",
       "      <td>84</td>\n",
       "      <td>1966522</td>\n",
       "      <td>90.0</td>\n",
       "    </tr>\n",
       "    <tr>\n",
       "      <th>2</th>\n",
       "      <td>Inception</td>\n",
       "      <td>2010</td>\n",
       "      <td>8.8</td>\n",
       "      <td>74</td>\n",
       "      <td>1747479</td>\n",
       "      <td>88.0</td>\n",
       "    </tr>\n",
       "  </tbody>\n",
       "</table>\n",
       "</div>"
      ],
      "text/plain": [
       "                      movie  year  imdb  metascore    votes  n_imdb\n",
       "0  The Shawshank Redemption  1994   9.3         80  1996917    93.0\n",
       "1           The Dark Knight  2008   9.0         84  1966522    90.0\n",
       "2                 Inception  2010   8.8         74  1747479    88.0"
      ]
     },
     "execution_count": 42,
     "metadata": {},
     "output_type": "execute_result"
    }
   ],
   "source": [
    "movie_ratings['n_imdb'] = movie_ratings['imdb'] * 10\n",
    "movie_ratings.head(3)"
   ]
  },
  {
   "cell_type": "code",
   "execution_count": 43,
   "metadata": {
    "collapsed": true
   },
   "outputs": [],
   "source": [
    "movie_ratings.to_csv('movie_ratings.csv')"
   ]
  },
  {
   "cell_type": "code",
   "execution_count": 44,
   "metadata": {},
   "outputs": [
    {
     "data": {
      "image/png": "[encoded data removed]",
      "text/plain": [
       "<matplotlib.figure.Figure at 0x10c9bc160>"
      ]
     },
     "metadata": {},
     "output_type": "display_data"
    }
   ],
   "source": [
    "import matplotlib.pyplot as plt\n",
    "%matplotlib inline\n",
    "\n",
    "fig, axes = plt.subplots(nrows = 1, ncols = 3, figsize = (16,4))\n",
    "ax1, ax2, ax3 = fig.axes\n",
    "\n",
    "ax1.hist(movie_ratings['imdb'], bins = 10, range = (0,10)) # bin range = 1\n",
    "ax1.set_title('IMDB rating')\n",
    "\n",
    "ax2.hist(movie_ratings['metascore'], bins = 10, range = (0,100)) # bin range = 10\n",
    "ax2.set_title('Metascore')\n",
    "\n",
    "ax3.hist(movie_ratings['n_imdb'], bins = 10, range = (0,100), histtype = 'step')\n",
    "ax3.hist(movie_ratings['metascore'], bins = 10, range = (0,100), histtype = 'step')\n",
    "ax3.legend(loc = 'upper left')\n",
    "ax3.set_title('The Two Normalized Distributions')\n",
    "\n",
    "for ax in fig.axes:\n",
    "    ax.spines['top'].set_visible(False)\n",
    "    ax.spines['right'].set_visible(False)\n",
    "\n",
    "plt.show()"
   ]
  },
  {
   "cell_type": "code",
   "execution_count": null,
   "metadata": {
    "collapsed": true
   },
   "outputs": [],
   "source": []
  }
 ],
 "metadata": {
  "kernelspec": {
   "display_name": "Python 3",
   "language": "python",
   "name": "python3"
  },
  "language_info": {
   "codemirror_mode": {
    "name": "ipython",
    "version": 3
   },
   "file_extension": ".py",
   "mimetype": "text/x-python",
   "name": "python",
   "nbconvert_exporter": "python",
   "pygments_lexer": "ipython3",
   "version": "3.6.3"
  }
 },
 "nbformat": 4,
 "nbformat_minor": 2
}
